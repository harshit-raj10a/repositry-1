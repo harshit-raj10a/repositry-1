{
 "cells": [
  {
   "cell_type": "markdown",
   "metadata": {},
   "source": [
    "## BINARY SEARCH"
   ]
  },
  {
   "cell_type": "code",
   "execution_count": 40,
   "metadata": {},
   "outputs": [
    {
     "name": "stdout",
     "output_type": "stream",
     "text": [
      "item is found\n"
     ]
    }
   ],
   "source": [
    "def binary(a,lindex,rindex,taritem):\n",
    "    while(lindex<=rindex):\n",
    "        mindex=lindex+(rindex-lindex)//2\n",
    "        if(a[mindex]==taritem):\n",
    "            return mindex\n",
    "        if(a[mindex]>taritem):\n",
    "            rindex=mindex-1\n",
    "        else:\n",
    "            lindex=mindex+1\n",
    "    return-1\n",
    "list1=[1,3,9,15,25,45,57,88,98]\n",
    "res=binary(list1,0,8,98)\n",
    "if res!=-1:\n",
    "    print(\"item is found\")\n",
    "else:\n",
    "    print(\"item not found\")\n",
    "        "
   ]
  },
  {
   "cell_type": "markdown",
   "metadata": {},
   "source": [
    "## SORTING TECHNIQUE"
   ]
  },
  {
   "cell_type": "markdown",
   "metadata": {},
   "source": [
    "### BUBBLE SORTING"
   ]
  },
  {
   "cell_type": "code",
   "execution_count": 41,
   "metadata": {},
   "outputs": [
    {
     "name": "stdout",
     "output_type": "stream",
     "text": [
      "1 2 3 3 4 5 5 5 6 6 6 6 7 7 7 8 9 21 44 [1, 2, 3, 3, 4, 5, 5, 5, 6, 6, 6, 6, 7, 7, 7, 8, 9, 21, 44]\n"
     ]
    }
   ],
   "source": [
    "def bubble(a):\n",
    "    for i in range(len(a)-1):\n",
    "        for j in range(len(a)-1):\n",
    "            if a[j]>a[j+1]:\n",
    "                a[j],a[j+1]=a[j+1],a[j]\n",
    "    for i in range(len(a)):\n",
    "        print(a[i],end=\" \")\n",
    "        \n",
    "lst=[9,8,7,7,6,6,6,5,5,6,5,7,4,3,44,3,21,2,1]\n",
    "bubble(lst)\n",
    "print(lst)"
   ]
  },
  {
   "cell_type": "code",
   "execution_count": null,
   "metadata": {},
   "outputs": [],
   "source": []
  },
  {
   "cell_type": "code",
   "execution_count": 42,
   "metadata": {},
   "outputs": [
    {
     "name": "stdout",
     "output_type": "stream",
     "text": [
      "[1, 2, 3, 4, 5, 5, 5, 6, 6, 6, 6, 7, 7, 7, 8, 9, 21, 44]\n"
     ]
    }
   ],
   "source": [
    "def bubble(a):\n",
    "    for i in range(len(a)-1):\n",
    "        for j in range(len(a)-1):\n",
    "            if a[j]>a[j+1]:\n",
    "                a[j],a[j+1]=a[j+1],a[j]\n",
    "    for i in range(len(a)):\n",
    "        print(a[i],end=\" \")\n",
    "        \n",
    "lst=[9,8,7,7,6,6,6,5,5,6,5,7,4,3,44,21,2,1]\n",
    "lst.sort()  \n",
    "print(lst)"
   ]
  },
  {
   "cell_type": "markdown",
   "metadata": {},
   "source": [
    "## STRINGS IN PYTHON"
   ]
  },
  {
   "cell_type": "code",
   "execution_count": 43,
   "metadata": {},
   "outputs": [
    {
     "name": "stdout",
     "output_type": "stream",
     "text": [
      "application\n",
      "application\n",
      "Application test\n",
      "        working\n",
      "        completed\n"
     ]
    }
   ],
   "source": [
    "str=\"application\"\n",
    "print(str)\n",
    "\n",
    "str1='application'\n",
    "print(str1)\n",
    "\n",
    "str2=\"\"\"Application test\n",
    "        working\n",
    "        completed\"\"\"\n",
    "print(str2)"
   ]
  },
  {
   "cell_type": "code",
   "execution_count": 44,
   "metadata": {},
   "outputs": [
    {
     "name": "stdout",
     "output_type": "stream",
     "text": [
      "application\n",
      "str[1]= a\n",
      "str[2]= p\n",
      "str[-1]= n\n",
      "str[-2]= o\n",
      "str[0]= a\n",
      "str[1:5]= ppli\n",
      "str[0]= a\n",
      "str[:5]= appli\n",
      "str[::-1]= noitacilppa\n",
      "str[::-2]= niaipa\n"
     ]
    }
   ],
   "source": [
    "str=\"application\"\n",
    "print(str)\n",
    "print(\"str[1]=\",str[0])\n",
    "print(\"str[2]=\",str[1])\n",
    "print(\"str[-1]=\",str[-1])\n",
    "print(\"str[-2]=\",str[-2])\n",
    "print(\"str[0]=\",str[0])\n",
    "print(\"str[1:5]=\",str[1:5])\n",
    "print(\"str[0]=\",str[0])\n",
    "print(\"str[:5]=\",str[:5])\n",
    "\n",
    "print(\"str[::-1]=\",str[::-1])\n",
    "\n",
    "print(\"str[::-2]=\",str[::-2])"
   ]
  },
  {
   "cell_type": "code",
   "execution_count": 45,
   "metadata": {},
   "outputs": [
    {
     "name": "stdout",
     "output_type": "stream",
     "text": [
      "0\n",
      "1\n"
     ]
    }
   ],
   "source": [
    "def pallindrome(s):\n",
    "    if s==s[::-1]:\n",
    "        return 1\n",
    "    else:\n",
    "        return 0\n",
    "    \n",
    "print(pallindrome(\"python\"))\n",
    "print(pallindrome(\"jalaj\"))\n"
   ]
  },
  {
   "cell_type": "code",
   "execution_count": 46,
   "metadata": {},
   "outputs": [
    {
     "name": "stdout",
     "output_type": "stream",
     "text": [
      "enter a no.3463456\n",
      "7\n"
     ]
    }
   ],
   "source": [
    "n=int(input(\"enter a no.\"))\n",
    "cnt=0\n",
    "while(n!=0):\n",
    "    cnt=cnt+1\n",
    "    n=n//10\n",
    "print(cnt)"
   ]
  },
  {
   "cell_type": "code",
   "execution_count": 50,
   "metadata": {},
   "outputs": [
    {
     "data": {
      "text/plain": [
       "11"
      ]
     },
     "execution_count": 50,
     "metadata": {},
     "output_type": "execute_result"
    }
   ],
   "source": [
    "def countfchar(a):\n",
    "    return len(str)\n",
    "countfchar(\"applications\")"
   ]
  },
  {
   "cell_type": "markdown",
   "metadata": {},
   "source": [
    "### Count Of Upper Case"
   ]
  },
  {
   "cell_type": "code",
   "execution_count": 54,
   "metadata": {},
   "outputs": [
    {
     "data": {
      "text/plain": [
       "3"
      ]
     },
     "execution_count": 54,
     "metadata": {},
     "output_type": "execute_result"
    }
   ],
   "source": [
    "def count(str):\n",
    "    lst=list(str)\n",
    "    return len(lst)\n",
    "count(\"app\")"
   ]
  },
  {
   "cell_type": "code",
   "execution_count": 58,
   "metadata": {},
   "outputs": [
    {
     "name": "stdout",
     "output_type": "stream",
     "text": [
      "6\n",
      "2\n"
     ]
    }
   ],
   "source": [
    "def count(str):\n",
    "    c=0\n",
    "    lst=list(str)\n",
    "    for x in range(len(lst)):\n",
    "        if(ord(lst[x])>=65 and ord(lst[x])<=90):\n",
    "            c=c+1\n",
    "    return c\n",
    "print(count(\"aPPLICAtion\"))\n",
    "print(count(\"REsult\"))"
   ]
  },
  {
   "cell_type": "code",
   "execution_count": 85,
   "metadata": {
    "scrolled": true
   },
   "outputs": [
    {
     "name": "stdout",
     "output_type": "stream",
     "text": [
      "1 8 8 9 None\n"
     ]
    }
   ],
   "source": [
    "def printdigit(str):\n",
    "    lst=list(str)\n",
    "    for x in range(len(lst)):\n",
    "        if(ord(lst[x])>=48 and ord(lst[x])<=57):\n",
    "            print(lst[x],end=\" \")\n",
    "        \n",
    "print(printdigit(\"application1889\"))"
   ]
  },
  {
   "cell_type": "code",
   "execution_count": 88,
   "metadata": {},
   "outputs": [
    {
     "name": "stdout",
     "output_type": "stream",
     "text": [
      "26\n"
     ]
    }
   ],
   "source": [
    "def printdigit(str):\n",
    "    lst=list(str)\n",
    "    s=0\n",
    "    for x in range(len(lst)):\n",
    "        if(ord(lst[x])>=48 and ord(lst[x])<=57):\n",
    "            o=int(lst[x])\n",
    "            s=s+o\n",
    "    return s\n",
    "        \n",
    "print(printdigit(\"application1889\"))"
   ]
  },
  {
   "cell_type": "code",
   "execution_count": 90,
   "metadata": {},
   "outputs": [
    {
     "name": "stdout",
     "output_type": "stream",
     "text": [
      "43\n"
     ]
    }
   ],
   "source": [
    "def printdigit(str):\n",
    "    lst=list(str)\n",
    "    s=0\n",
    "    for x in range(len(lst)):\n",
    "        if(ord(lst[x])>=48 and ord(lst[x])<=57):\n",
    "            if\n",
    "            s=s+ord(lst[x])-48\n",
    "    return s\n",
    "        \n",
    "print(printdigit(\"application188899\"))"
   ]
  },
  {
   "cell_type": "code",
   "execution_count": 90,
   "metadata": {},
   "outputs": [
    {
     "name": "stdout",
     "output_type": "stream",
     "text": [
      "43\n"
     ]
    }
   ],
   "source": [
    "def printdigit(str):\n",
    "    lst=list(str)\n",
    "    s=0\n",
    "    for x in range(len(lst)):\n",
    "        if(ord(lst[x])>=48 and ord(lst[x])<=57):\n",
    "            s=s+ord(lst[x])-48\n",
    "    return s\n",
    "        \n",
    "print(printdigit(\"application188899\"))"
   ]
  },
  {
   "cell_type": "code",
   "execution_count": 97,
   "metadata": {},
   "outputs": [
    {
     "name": "stdout",
     "output_type": "stream",
     "text": [
      "16\n",
      "30\n",
      "10\n",
      "6\n"
     ]
    }
   ],
   "source": [
    "def printevendigit(str):\n",
    "    lst=list(str)\n",
    "    s=0\n",
    "    for x in range(len(lst)):\n",
    "        if(ord(lst[x])>=48 and ord(lst[x])<=57):\n",
    "            if(ord(lst[x])%2==0):\n",
    "                s=s+ord(lst[x])-48\n",
    "    return s\n",
    "        \n",
    "print(printevendigit(\"application1889\"))\n",
    "print(printevendigit(\"test34eru543886\"))\n",
    "print(printdigit(\"wor7852king\"))\n",
    "print(printdigit(\"te1561\"))"
   ]
  },
  {
   "cell_type": "code",
   "execution_count": null,
   "metadata": {},
   "outputs": [],
   "source": []
  }
 ],
 "metadata": {
  "kernelspec": {
   "display_name": "Python 3",
   "language": "python",
   "name": "python3"
  },
  "language_info": {
   "codemirror_mode": {
    "name": "ipython",
    "version": 3
   },
   "file_extension": ".py",
   "mimetype": "text/x-python",
   "name": "python",
   "nbconvert_exporter": "python",
   "pygments_lexer": "ipython3",
   "version": "3.7.3"
  }
 },
 "nbformat": 4,
 "nbformat_minor": 2
}
