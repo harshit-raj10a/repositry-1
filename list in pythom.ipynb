{
 "cells": [
  {
   "cell_type": "code",
   "execution_count": 1,
   "metadata": {},
   "outputs": [
    {
     "name": "stdout",
     "output_type": "stream",
     "text": [
      "1 3 23 69 529 "
     ]
    },
    {
     "data": {
      "text/plain": [
       "1587"
      ]
     },
     "execution_count": 1,
     "metadata": {},
     "output_type": "execute_result"
    }
   ],
   "source": [
    "def factors(n):\n",
    "    i=1\n",
    "    while(i!=n):\n",
    "        if(n%i==0):\n",
    "            print(i,end=\" \")\n",
    "        i=i+1\n",
    "    return i\n",
    "factors(1587)"
   ]
  },
  {
   "cell_type": "markdown",
   "metadata": {},
   "source": [
    "# List In Python"
   ]
  },
  {
   "cell_type": "code",
   "execution_count": 5,
   "metadata": {},
   "outputs": [
    {
     "name": "stdout",
     "output_type": "stream",
     "text": [
      "[1, 2, 3, 4, 5]\n",
      "1\n"
     ]
    }
   ],
   "source": [
    "list2=[1,2,3,4,5]\n",
    "print(list2)\n",
    "print(list2[0])"
   ]
  },
  {
   "cell_type": "markdown",
   "metadata": {},
   "source": [
    "# For Loop"
   ]
  },
  {
   "cell_type": "code",
   "execution_count": 3,
   "metadata": {},
   "outputs": [
    {
     "name": "stdout",
     "output_type": "stream",
     "text": [
      "1 2 3 4 5 6 7 8 9 \n",
      "[]\n",
      "[1, 2, 3]\n",
      "[1, 2, 3, 4, 5, 6, 7, 8, 9]\n",
      "10\n"
     ]
    }
   ],
   "source": [
    "list1=[1,2,3,4,5,6,7,8,9]\n",
    "for x in list1:\n",
    "    print(x,end=\" \")\n",
    "print()\n",
    "print(list1[-1:-1])\n",
    "print(list1[0:3])\n",
    "print(list1[:13])\n",
    "list1.append(1)\n",
    "print(len(list1))"
   ]
  },
  {
   "cell_type": "code",
   "execution_count": 1,
   "metadata": {},
   "outputs": [
    {
     "name": "stdout",
     "output_type": "stream",
     "text": [
      "1 2 3 4 5 6 7 8 9 u \n",
      "[2, 3, 4, 5, 6, 7, 8, 9]\n"
     ]
    },
    {
     "ename": "ValueError",
     "evalue": "attempt to assign sequence of size 4 to extended slice of size 5",
     "output_type": "error",
     "traceback": [
      "\u001b[1;31m---------------------------------------------------------------------------\u001b[0m",
      "\u001b[1;31mValueError\u001b[0m                                Traceback (most recent call last)",
      "\u001b[1;32m<ipython-input-1-e7e01556779f>\u001b[0m in \u001b[0;36m<module>\u001b[1;34m\u001b[0m\n\u001b[0;32m      4\u001b[0m \u001b[0mprint\u001b[0m\u001b[1;33m(\u001b[0m\u001b[1;33m)\u001b[0m\u001b[1;33m\u001b[0m\u001b[1;33m\u001b[0m\u001b[0m\n\u001b[0;32m      5\u001b[0m \u001b[0mprint\u001b[0m\u001b[1;33m(\u001b[0m\u001b[0mlist1\u001b[0m\u001b[1;33m[\u001b[0m\u001b[1;36m1\u001b[0m\u001b[1;33m:\u001b[0m\u001b[1;33m-\u001b[0m\u001b[1;36m1\u001b[0m\u001b[1;33m]\u001b[0m\u001b[1;33m)\u001b[0m\u001b[1;33m\u001b[0m\u001b[1;33m\u001b[0m\u001b[0m\n\u001b[1;32m----> 6\u001b[1;33m \u001b[0mlist1\u001b[0m\u001b[1;33m[\u001b[0m\u001b[1;33m:\u001b[0m\u001b[1;33m:\u001b[0m\u001b[1;36m2\u001b[0m\u001b[1;33m]\u001b[0m\u001b[1;33m=\u001b[0m\u001b[1;33m[\u001b[0m\u001b[1;36m10\u001b[0m\u001b[1;33m,\u001b[0m\u001b[1;36m20\u001b[0m\u001b[1;33m,\u001b[0m\u001b[1;36m30\u001b[0m\u001b[1;33m,\u001b[0m\u001b[1;36m40\u001b[0m\u001b[1;33m,\u001b[0m\u001b[1;33m]\u001b[0m\u001b[1;33m\u001b[0m\u001b[1;33m\u001b[0m\u001b[0m\n\u001b[0m\u001b[0;32m      7\u001b[0m \u001b[0mprint\u001b[0m\u001b[1;33m(\u001b[0m\u001b[0mlist1\u001b[0m\u001b[1;33m[\u001b[0m\u001b[1;33m:\u001b[0m\u001b[1;33m:\u001b[0m\u001b[1;36m3\u001b[0m\u001b[1;33m]\u001b[0m\u001b[1;33m)\u001b[0m\u001b[1;33m\u001b[0m\u001b[1;33m\u001b[0m\u001b[0m\n\u001b[0;32m      8\u001b[0m \u001b[0mprint\u001b[0m\u001b[1;33m(\u001b[0m\u001b[0mlist1\u001b[0m\u001b[1;33m[\u001b[0m\u001b[1;33m:\u001b[0m\u001b[1;33m:\u001b[0m\u001b[1;33m-\u001b[0m\u001b[1;36m2\u001b[0m\u001b[1;33m]\u001b[0m\u001b[1;33m)\u001b[0m\u001b[1;33m\u001b[0m\u001b[1;33m\u001b[0m\u001b[0m\n",
      "\u001b[1;31mValueError\u001b[0m: attempt to assign sequence of size 4 to extended slice of size 5"
     ]
    }
   ],
   "source": [
    "list1=[1,2,3,4,5,6,7,8,9,\"u\"]\n",
    "for x in list1:\n",
    "    print(x,end=\" \")\n",
    "print()\n",
    "print(list1[1:-1])\n",
    "list1[::2]=[10,20,30,40,]\n",
    "print(list1[::3])\n",
    "print(list1[::-2])\n",
    "print(list1[-1])"
   ]
  },
  {
   "cell_type": "code",
   "execution_count": 52,
   "metadata": {},
   "outputs": [
    {
     "name": "stdout",
     "output_type": "stream",
     "text": [
      "['akhil', 'mohit', 'akshay', 3]\n",
      "['akhil', 'mohit', 3]\n",
      "['akhil', 'mohit', 'anil']\n",
      "['akhil', 'mohit', 'anil']\n",
      "['akhil', 'mohit', 20]\n",
      "3\n"
     ]
    }
   ],
   "source": [
    "list1=[\"akhil\",\"mohit\",\"akshay\",3]\n",
    "print(list1)\n",
    "del list1[2]\n",
    "print(list1)\n",
    "list1[2]=\"anil\"\n",
    "print(list1)\n",
    "print(list1)\n",
    "list1[2]=20\n",
    "print(list1)\n",
    "print(len(list1))"
   ]
  },
  {
   "cell_type": "markdown",
   "metadata": {},
   "source": [
    "## List method"
   ]
  },
  {
   "cell_type": "markdown",
   "metadata": {},
   "source": [
    "### APPEND"
   ]
  },
  {
   "cell_type": "code",
   "execution_count": 5,
   "metadata": {},
   "outputs": [
    {
     "name": "stdout",
     "output_type": "stream",
     "text": [
      "['akhil', 'mohit', 'akshay', 3]\n",
      "['akhil', 'mohit', 3]\n",
      "['akhil', 'mohit', 'anil']\n",
      "['akhil', 'mohit', 'anil']\n",
      "['akhil', 'mohit', 20]\n",
      "3\n",
      "['akhil', 'mohit', 20, 16]\n",
      "['akhil', 'mohit', 20, 16, 1]\n",
      "['akhil', 'mohit', 20, 16, 1, 16]\n",
      "['akhil', 'mohit', 20, 16, 1, 16, 16]\n"
     ]
    }
   ],
   "source": [
    "list1=['akhil','mohit','akshay',3]\n",
    "print(list1)\n",
    "del list1[2]\n",
    "print(list1)\n",
    "list1[2]=\"anil\"\n",
    "print(list1)\n",
    "print(list1)\n",
    "list1[2]=20\n",
    "print(list1)\n",
    "print(len(list1))\n",
    "list1.append(16)\n",
    "print(list1)\n",
    "list1.append(1)\n",
    "print(list1)\n",
    "list1.append(16)\n",
    "print(list1)\n",
    "list1.append(16)\n",
    "print(list1)"
   ]
  },
  {
   "cell_type": "markdown",
   "metadata": {},
   "source": [
    "### COUNT"
   ]
  },
  {
   "cell_type": "code",
   "execution_count": 2,
   "metadata": {
    "scrolled": true
   },
   "outputs": [
    {
     "name": "stdout",
     "output_type": "stream",
     "text": [
      "['akhil', 'mohit', 'akshay', 3, 16]\n",
      "['akhil', 'mohit', 'akshay', 3, 16, 1]\n",
      "['akhil', 'mohit', 'akshay', 3, 16, 1, 16]\n",
      "['akhil', 'mohit', 'akshay', 3, 16, 1, 16, 16]\n",
      "3\n",
      "0\n",
      "1\n",
      "1\n"
     ]
    }
   ],
   "source": [
    "list1=[\"akhil\",\"mohit\",\"akshay\",3]\n",
    "\n",
    "list1.append(16)\n",
    "print(list1)\n",
    "list1.append(1)\n",
    "print(list1)\n",
    "list1.append(16)\n",
    "print(list1)\n",
    "list1.append(16)\n",
    "print(list1)\n",
    "print(list1.count(16))\n",
    "print(list1.count(5))\n",
    "print(list1.count(1))\n",
    "print(list1.count(\"akhil\"))"
   ]
  },
  {
   "cell_type": "markdown",
   "metadata": {},
   "source": [
    "### INDEX(obj)"
   ]
  },
  {
   "cell_type": "code",
   "execution_count": 7,
   "metadata": {},
   "outputs": [
    {
     "name": "stdout",
     "output_type": "stream",
     "text": [
      "['Gitam', 'Python', 'program', 1, 2]\n"
     ]
    },
    {
     "data": {
      "text/plain": [
       "4"
      ]
     },
     "execution_count": 7,
     "metadata": {},
     "output_type": "execute_result"
    }
   ],
   "source": [
    "list1=[\"Gitam\",\"Python\",\"program\",1,2]\n",
    "print(list1)\n",
    "list1.index(\"Python\")\n",
    "list1.index(2)"
   ]
  },
  {
   "cell_type": "markdown",
   "metadata": {},
   "source": [
    "### INSERT(index,obj)"
   ]
  },
  {
   "cell_type": "code",
   "execution_count": 13,
   "metadata": {},
   "outputs": [
    {
     "name": "stdout",
     "output_type": "stream",
     "text": [
      "['Gitam', 'Python', 'program', 1, 2]\n",
      "['Gitam', 'Python', 4758, 'program', 1, 2]\n",
      "6\n",
      "['Gitam', 'Python', 4758, 'program', 'harshit', 1, 2]\n"
     ]
    }
   ],
   "source": [
    "list1=[\"Gitam\",\"Python\",\"program\",1,2]\n",
    "print(list1)\n",
    "list1.index(\"Python\")\n",
    "list1.index(2)\n",
    "list1.insert(2,4758)\n",
    "print(list1)\n",
    "print(len(list1))\n",
    "list1.insert(4,\"harshit\")\n",
    "print(list1)"
   ]
  },
  {
   "cell_type": "markdown",
   "metadata": {},
   "source": [
    "### REMOVE(obj)"
   ]
  },
  {
   "cell_type": "code",
   "execution_count": 15,
   "metadata": {
    "scrolled": true
   },
   "outputs": [
    {
     "name": "stdout",
     "output_type": "stream",
     "text": [
      "['Gitam', 'Python', 'program', 1, 2]\n",
      "['Gitam', 'Python', 1, 2]\n"
     ]
    }
   ],
   "source": [
    "list1=[\"Gitam\",\"Python\",\"program\",1,2]\n",
    "print(list1)\n",
    "list1.remove(\"program\")\n",
    "print(list1)"
   ]
  },
  {
   "cell_type": "markdown",
   "metadata": {},
   "source": [
    "### REVERSE(obj)"
   ]
  },
  {
   "cell_type": "code",
   "execution_count": 16,
   "metadata": {},
   "outputs": [
    {
     "name": "stdout",
     "output_type": "stream",
     "text": [
      "['Gitam', 'Python', 'program', 1, 2]\n",
      "['Gitam', 'Python', 1, 2]\n",
      "[2, 1, 'Python', 'Gitam']\n"
     ]
    }
   ],
   "source": [
    "list1=[\"Gitam\",\"Python\",\"program\",1,2]\n",
    "print(list1)\n",
    "list1.remove(\"program\")\n",
    "print(list1)\n",
    "list1.reverse()\n",
    "print(list1)"
   ]
  },
  {
   "cell_type": "code",
   "execution_count": 4,
   "metadata": {},
   "outputs": [
    {
     "name": "stdout",
     "output_type": "stream",
     "text": [
      "[404, 3.03]\n"
     ]
    }
   ],
   "source": [
    "lst=['tech',404,3.03,'bammers',33.3]\n",
    "print(lst[1:3])"
   ]
  },
  {
   "cell_type": "code",
   "execution_count": null,
   "metadata": {},
   "outputs": [],
   "source": []
  }
 ],
 "metadata": {
  "kernelspec": {
   "display_name": "Python 3",
   "language": "python",
   "name": "python3"
  },
  "language_info": {
   "codemirror_mode": {
    "name": "ipython",
    "version": 3
   },
   "file_extension": ".py",
   "mimetype": "text/x-python",
   "name": "python",
   "nbconvert_exporter": "python",
   "pygments_lexer": "ipython3",
   "version": "3.7.3"
  }
 },
 "nbformat": 4,
 "nbformat_minor": 2
}
