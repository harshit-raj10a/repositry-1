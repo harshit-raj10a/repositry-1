{
 "cells": [
  {
   "cell_type": "code",
   "execution_count": 1,
   "metadata": {},
   "outputs": [
    {
     "name": "stdout",
     "output_type": "stream",
     "text": [
      "enter a stringadfjal;kdfj'a23\n",
      "0 0\n",
      "1\n",
      "1\n",
      "0\n",
      "0\n",
      "0\n",
      "0\n",
      "0\n",
      "0\n"
     ]
    }
   ],
   "source": [
    "import re\n",
    "y=input(\"enter a string\")\n",
    "x=str(y)\n",
    "print(x.count('0'),end=\" \")\n",
    "print(x.count('1'))\n",
    "print(x.count('2'))\n",
    "print(x.count('3'))\n",
    "print(x.count('4'))\n",
    "print(x.count('5'))\n",
    "print(x.count('6'))\n",
    "print(x.count('7'))\n",
    "print(x.count('8'))\n",
    "print(x.count('9'))"
   ]
  },
  {
   "cell_type": "code",
   "execution_count": null,
   "metadata": {},
   "outputs": [],
   "source": []
  },
  {
   "cell_type": "code",
   "execution_count": null,
   "metadata": {},
   "outputs": [],
   "source": []
  }
 ],
 "metadata": {
  "kernelspec": {
   "display_name": "Python 3",
   "language": "python",
   "name": "python3"
  },
  "language_info": {
   "codemirror_mode": {
    "name": "ipython",
    "version": 3
   },
   "file_extension": ".py",
   "mimetype": "text/x-python",
   "name": "python",
   "nbconvert_exporter": "python",
   "pygments_lexer": "ipython3",
   "version": "3.7.3"
  }
 },
 "nbformat": 4,
 "nbformat_minor": 2
}
