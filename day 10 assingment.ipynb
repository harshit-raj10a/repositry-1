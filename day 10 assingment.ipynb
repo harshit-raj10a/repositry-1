{
 "cells": [
  {
   "cell_type": "markdown",
   "metadata": {},
   "source": [
    "# ASSINGMENT"
   ]
  },
  {
   "cell_type": "code",
   "execution_count": 2,
   "metadata": {},
   "outputs": [
    {
     "name": "stdout",
     "output_type": "stream",
     "text": [
      "new file created\n"
     ]
    }
   ],
   "source": [
    "def createfile(file):\n",
    "    f=open(file,\"w\")\n",
    "    for i in range(3):\n",
    "        f.write(\"new file\\n\")\n",
    "    print(\"new file created\")\n",
    "    f.close()\n",
    "    return\n",
    "createfile(\"file2.txt\")"
   ]
  },
  {
   "cell_type": "code",
   "execution_count": 28,
   "metadata": {},
   "outputs": [],
   "source": [
    "def writedata(file):\n",
    "    f=open(file,\"w\")\n",
    "    c=0\n",
    "    for i in range(10):\n",
    "        f.write(\"new file created (-:PAAARTYYYYY:-) %d times\\n\"%i)\n",
    "    f.close()\n",
    "    return\n",
    "writedata(\"file2.txt\")"
   ]
  },
  {
   "cell_type": "code",
   "execution_count": 29,
   "metadata": {},
   "outputs": [
    {
     "name": "stdout",
     "output_type": "stream",
     "text": [
      "190\n"
     ]
    }
   ],
   "source": [
    "def countlowerchar(file):\n",
    "    f=open(file,\"r\")\n",
    "    c=0\n",
    "    if f.mode==\"r\":\n",
    "        x=f.read()\n",
    "        lst=list(x)\n",
    "        for i in lst:\n",
    "            if i.islower():\n",
    "                c+=1\n",
    "    return c\n",
    "print(countlowerchar(\"file2.txt\"))"
   ]
  },
  {
   "cell_type": "code",
   "execution_count": 30,
   "metadata": {},
   "outputs": [
    {
     "name": "stdout",
     "output_type": "stream",
     "text": [
      "110\n"
     ]
    }
   ],
   "source": [
    "def countlowerchar(file):\n",
    "    f=open(file,\"r\")\n",
    "    c=0\n",
    "    if f.mode==\"r\":\n",
    "        x=f.read()\n",
    "        lst=list(x)\n",
    "        for i in lst:\n",
    "            if i.isupper():\n",
    "                c+=1\n",
    "    return c\n",
    "print(countlowerchar(\"file2.txt\"))"
   ]
  },
  {
   "cell_type": "code",
   "execution_count": 31,
   "metadata": {},
   "outputs": [
    {
     "name": "stdout",
     "output_type": "stream",
     "text": [
      "10\n"
     ]
    }
   ],
   "source": [
    "def countlowerchar(file):\n",
    "    f=open(file,\"r\")\n",
    "    c=0\n",
    "    if f.mode==\"r\":\n",
    "        x=f.read()\n",
    "        lst=list(x)\n",
    "        for i in lst:\n",
    "            if i.isnumeric():\n",
    "                c+=1\n",
    "    return c\n",
    "print(countlowerchar(\"file2.txt\"))"
   ]
  },
  {
   "cell_type": "code",
   "execution_count": 32,
   "metadata": {},
   "outputs": [
    {
     "name": "stdout",
     "output_type": "stream",
     "text": [
      "0\n"
     ]
    }
   ],
   "source": [
    "import re\n",
    "def specialchar(file):\n",
    "    f=open(file,\"r\")\n",
    "    c=0\n",
    "    pattern='^[#$%[]{}!@^&*()_+=:;''\"><?/\"]$'\n",
    "    if f.mode==\"r\":\n",
    "        x=f.read()\n",
    "        lst=list(x)\n",
    "        for i in lst:\n",
    "             if re.match(pattern,i):\n",
    "                c=c+1\n",
    "    return c\n",
    "print(specialchar(\"file2.txt\"))"
   ]
  },
  {
   "cell_type": "code",
   "execution_count": null,
   "metadata": {},
   "outputs": [],
   "source": [
    "def "
   ]
  }
 ],
 "metadata": {
  "kernelspec": {
   "display_name": "Python 3",
   "language": "python",
   "name": "python3"
  },
  "language_info": {
   "codemirror_mode": {
    "name": "ipython",
    "version": 3
   },
   "file_extension": ".py",
   "mimetype": "text/x-python",
   "name": "python",
   "nbconvert_exporter": "python",
   "pygments_lexer": "ipython3",
   "version": "3.7.3"
  }
 },
 "nbformat": 4,
 "nbformat_minor": 2
}
