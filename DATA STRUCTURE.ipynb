{
 "cells": [
  {
   "cell_type": "markdown",
   "metadata": {},
   "source": [
    "# DATA STRUCTURE"
   ]
  },
  {
   "cell_type": "markdown",
   "metadata": {},
   "source": [
    "### linear search"
   ]
  },
  {
   "cell_type": "code",
   "execution_count": 1,
   "metadata": {},
   "outputs": [
    {
     "name": "stdout",
     "output_type": "stream",
     "text": [
      "target item is found\n"
     ]
    }
   ],
   "source": [
    "def linear(a,t):\n",
    "    c=0\n",
    "    for i in range(len(a)):\n",
    "        if(a[i]==t):\n",
    "            c=1\n",
    "            break\n",
    "    if(c!=0):\n",
    "        print(\"target item is found\")\n",
    "    else:\n",
    "        print(\"target item is not fund\")\n",
    "a=[12,123,34,54,5,34,64]        \n",
    "linear(a,12)"
   ]
  },
  {
   "cell_type": "code",
   "execution_count": 2,
   "metadata": {},
   "outputs": [
    {
     "name": "stdout",
     "output_type": "stream",
     "text": [
      "3\n"
     ]
    }
   ],
   "source": [
    "def linearduplicate(a,t):\n",
    "    c=0\n",
    "    for i in range(len(a)):\n",
    "        if(a[i]==t):\n",
    "            c=c+1\n",
    "    print(c)\n",
    "a=[1,2,3,4,3,44,5,4,5,6,7,6,7,7]\n",
    "linearduplicate(a,7)"
   ]
  },
  {
   "cell_type": "markdown",
   "metadata": {},
   "source": [
    "### Index Of A Number"
   ]
  },
  {
   "cell_type": "code",
   "execution_count": 3,
   "metadata": {},
   "outputs": [
    {
     "name": "stdout",
     "output_type": "stream",
     "text": [
      "5 6 12 "
     ]
    }
   ],
   "source": [
    "def linearindex(a,t):\n",
    "    for i in range(len(a)):\n",
    "        if(a[i]==t):\n",
    "            print(i,end=\" \")\n",
    "a=[1,21,3,43,44,4,4,5,3,5,6,7,4,8,6,7]\n",
    "linearindex(a,4)"
   ]
  },
  {
   "cell_type": "code",
   "execution_count": 4,
   "metadata": {},
   "outputs": [
    {
     "name": "stdout",
     "output_type": "stream",
     "text": [
      "! !! !!! !!!!              "
     ]
    }
   ],
   "source": [
    " def linearindex(a,t):\n",
    "    for i in range(len(a)):\n",
    "        if(a[i]==t):\n",
    "            j=0\n",
    "            while(j<=i):\n",
    "                print(\"!\",end=\"\")\n",
    "                j=j+1\n",
    "        print(end=\" \")   \n",
    "a=[1,1,1,1,43,44,4,4,5,3,5,6,7,4,8,6,7]\n",
    "linearindex(a,1)"
   ]
  },
  {
   "cell_type": "code",
   "execution_count": 19,
   "metadata": {},
   "outputs": [
    {
     "name": "stdout",
     "output_type": "stream",
     "text": [
      "15 30 45 75 \n",
      "165\n"
     ]
    }
   ],
   "source": [
    "def perfect(a):\n",
    "    sum=0\n",
    "    for i in range(len(a)):\n",
    "        if(a[i]%15==0):\n",
    "            print(a[i],end=' ')\n",
    "            sum=sum+a[i]\n",
    "    print()  \n",
    "    print(sum)\n",
    "\n",
    "a=[15,30,45,12,376,76,75]\n",
    "perfect(a)"
   ]
  },
  {
   "cell_type": "code",
   "execution_count": 31,
   "metadata": {},
   "outputs": [
    {
     "name": "stdout",
     "output_type": "stream",
     "text": [
      "1 3 8 15 5 "
     ]
    }
   ],
   "source": [
    "def linearformatted(a):\n",
    "    for i in range(len(a)):\n",
    "        if(i==0 or i==(len(a)-1)):\n",
    "            print(a[i],end=\" \")\n",
    "        else:\n",
    "            print(a[i-1]*a[i+1],end=\" \")\n",
    "a=[1,2,3,4,5]\n",
    "linearformatted(a)"
   ]
  },
  {
   "cell_type": "code",
   "execution_count": 36,
   "metadata": {},
   "outputs": [
    {
     "name": "stdout",
     "output_type": "stream",
     "text": [
      "1 9 19 22 "
     ]
    }
   ],
   "source": [
    "def linearformatted(a):\n",
    "    for i in range(len(a)):\n",
    "        if(i==0 or i==(len(a)-1)):\n",
    "            print(a[i],end=\" \")\n",
    "        elif(a[i-1]%2==0 and a[i+1]%2==0):\n",
    "            print(a[i],end=\" \")\n",
    "a=[1,6,9,4,16,19,22]\n",
    "linearformatted(a)"
   ]
  },
  {
   "cell_type": "markdown",
   "metadata": {},
   "source": [
    "### No. to list"
   ]
  },
  {
   "cell_type": "code",
   "execution_count": 5,
   "metadata": {},
   "outputs": [
    {
     "name": "stdout",
     "output_type": "stream",
     "text": [
      "[1, 9, 8, 7]\n"
     ]
    }
   ],
   "source": [
    "def notoli(n):\n",
    "    list1=[]\n",
    "    while(n!=0):\n",
    "        r=n%10\n",
    "        list1.append(r)\n",
    "        n=n//10\n",
    "    list1.reverse()\n",
    "    print(list1)\n",
    "notoli(1987)"
   ]
  },
  {
   "cell_type": "code",
   "execution_count": 11,
   "metadata": {},
   "outputs": [
    {
     "name": "stdout",
     "output_type": "stream",
     "text": [
      "[8]\n"
     ]
    }
   ],
   "source": [
    "def notoli(n):\n",
    "    list1=[]\n",
    "    while(n!=0):\n",
    "        r=n%10\n",
    "        if(r%2==0):\n",
    "            list1.append(r)\n",
    "        n=n//10\n",
    "    list1.reverse()\n",
    "    print(list1)\n",
    "notoli(1987)"
   ]
  },
  {
   "cell_type": "code",
   "execution_count": 10,
   "metadata": {},
   "outputs": [
    {
     "name": "stdout",
     "output_type": "stream",
     "text": [
      "123456\n"
     ]
    }
   ],
   "source": [
    "def condition(a):\n",
    "    b=0\n",
    "    i=0\n",
    "    sum=0\n",
    "    while(i<len(a)):\n",
    "        sum=sum*10+a[i]\n",
    "        i=i+1\n",
    "    print(sum)\n",
    "    \n",
    "a=[1,2,3,4,5,6]\n",
    "condition(a)\n",
    "    \n",
    "    "
   ]
  },
  {
   "cell_type": "code",
   "execution_count": null,
   "metadata": {},
   "outputs": [],
   "source": [
    "def condition(a):\n",
    "    b=0\n",
    "    i=0\n",
    "    sum=0\n",
    "    while(i<len(a)):\n",
    "        if(a[i]%2==0):\n",
    "            sum=sum*10+a[i]\n",
    "            i=i+1\n",
    "    print(sum)\n",
    "    \n",
    "a=[1,2,3,4,5,6]\n",
    "condition(a)\n",
    "    "
   ]
  },
  {
   "cell_type": "code",
   "execution_count": 2,
   "metadata": {},
   "outputs": [
    {
     "name": "stdout",
     "output_type": "stream",
     "text": [
      "10\n"
     ]
    }
   ],
   "source": [
    "def condition(a):\n",
    "    b=0\n",
    "    i=0\n",
    "    sum=0\n",
    "    while(i<len(a)):\n",
    "        sum=sum+a[i]\n",
    "        i=i+1\n",
    "    print(sum)\n",
    "    \n",
    "a=[1,2,3,4]\n",
    "condition(a)"
   ]
  },
  {
   "cell_type": "code",
   "execution_count": 1,
   "metadata": {},
   "outputs": [
    {
     "data": {
      "text/plain": [
       "537"
      ]
     },
     "execution_count": 1,
     "metadata": {},
     "output_type": "execute_result"
    }
   ],
   "source": [
    "a=[1,2,33,4,2,34,453,2,4,2]\n",
    "sum(a)"
   ]
  },
  {
   "cell_type": "code",
   "execution_count": 9,
   "metadata": {},
   "outputs": [
    {
     "name": "stdout",
     "output_type": "stream",
     "text": [
      "[1, 4, 16, 3, 36, 5, 64]\n"
     ]
    }
   ],
   "source": [
    "def evensquare(a):\n",
    "    b=[]\n",
    "    for i in range(len(a)):\n",
    "        if(a[i]%2==0):\n",
    "            a[i]=a[i]**2\n",
    "            b.append(a[i])\n",
    "        else:\n",
    "            b.append(a[i])\n",
    "    print(b)\n",
    "a=[1,2,4,3,6,5,8]\n",
    "evensquare(a)"
   ]
  },
  {
   "cell_type": "code",
   "execution_count": 11,
   "metadata": {},
   "outputs": [
    {
     "name": "stdout",
     "output_type": "stream",
     "text": [
      "[1, 7, 15, 15]\n"
     ]
    }
   ],
   "source": [
    "def  condition(a):\n",
    "    list1=[]\n",
    "    for i in  range(len(a)):\n",
    "        if(i==0)or(i==(len(a)-1)):\n",
    "            list1.append(a[i])\n",
    "        else:\n",
    "            list1.append(a[i]+a[i-1])\n",
    "    print(list1)\n",
    "a=[1,6,9,15]\n",
    "condition(a)\n",
    "     "
   ]
  },
  {
   "cell_type": "code",
   "execution_count": null,
   "metadata": {},
   "outputs": [],
   "source": []
  }
 ],
 "metadata": {
  "kernelspec": {
   "display_name": "Python 3",
   "language": "python",
   "name": "python3"
  },
  "language_info": {
   "codemirror_mode": {
    "name": "ipython",
    "version": 3
   },
   "file_extension": ".py",
   "mimetype": "text/x-python",
   "name": "python",
   "nbconvert_exporter": "python",
   "pygments_lexer": "ipython3",
   "version": "3.7.3"
  }
 },
 "nbformat": 4,
 "nbformat_minor": 2
}
